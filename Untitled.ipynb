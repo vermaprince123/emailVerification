{
 "cells": [
  {
   "cell_type": "code",
   "execution_count": 10,
   "id": "2d65d3bd",
   "metadata": {},
   "outputs": [
    {
     "name": "stdout",
     "output_type": "stream",
     "text": [
      "Enter your emailprince@gmail.com\n",
      "prince@gmail.comvalid email id\n"
     ]
    }
   ],
   "source": [
    "email = input(\"Enter your email\")\n",
    "k=0\n",
    "j=0\n",
    "r=0\n",
    "if len(email)>=6:\n",
    "    if email[0].isalpha():\n",
    "        if (\"@\" in email) and (email.count(\"@\")==1):\n",
    "            if (email[-4]==\".\")^(email[-3]==\".\"):\n",
    "                for i in email:\n",
    "                    if i.isspace():\n",
    "                        k=1\n",
    "                    elif i.isalpha():\n",
    "                        if i==i.upper():\n",
    "                            j=1\n",
    "                    elif i.isdigit():\n",
    "                        continue\n",
    "                    elif i==\".\"or i==\"_\" or i==\"@\":\n",
    "                        continue    \n",
    "                    else:\n",
    "                        r=1      \n",
    "                if k==1:\n",
    "                     print(\"invalid beacuse of space in your email \\n please enter valid email\")\n",
    "                elif j==1:\n",
    "                    print(\"invalid because of upper case character \\n please enter valid email\")\n",
    "                elif r==1:\n",
    "                    print(\"invalid beacuse of special character \\n please enter valid email\")\n",
    "                else:\n",
    "                    print(email+\"valid email id\")\n",
    "            else:\n",
    "                print(\"invalid due to dot symbol \\n please enter valid email\")\n",
    "        else:\n",
    "            print(\"invalid due to wrong @ symbol \\n please enter valid email\")\n",
    "    else:\n",
    "        print(\"invalid due to wrong character at first place \\n please enter valid email\")\n",
    "else:\n",
    "    print(\"invalid email beacuse of less character at least 6 character is required \\n please enter valid email\")"
   ]
  },
  {
   "cell_type": "code",
   "execution_count": null,
   "id": "624d26ca",
   "metadata": {},
   "outputs": [],
   "source": []
  }
 ],
 "metadata": {
  "kernelspec": {
   "display_name": "Python 3",
   "language": "python",
   "name": "python3"
  },
  "language_info": {
   "codemirror_mode": {
    "name": "ipython",
    "version": 3
   },
   "file_extension": ".py",
   "mimetype": "text/x-python",
   "name": "python",
   "nbconvert_exporter": "python",
   "pygments_lexer": "ipython3",
   "version": "3.8.8"
  }
 },
 "nbformat": 4,
 "nbformat_minor": 5
}
